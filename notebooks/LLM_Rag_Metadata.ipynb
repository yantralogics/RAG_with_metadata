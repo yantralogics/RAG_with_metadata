{
 "cells": [
  {
   "cell_type": "markdown",
   "metadata": {},
   "source": [
    "# Retrieval Augmented Generation with metadata context\n",
    "\n",
    "In the previous app, we used textual context to assist LLM to provide sensible answers. In the cases where there is a combination fo structured and unstructured data in the dataset, it might make sense to include metadata. We will try to show the benefit of something like that in this notebook.\n",
    "Here's the blog post this notebook is inspired by https://blog.langchain.dev/a-chunk-by-any-other-name/."
   ]
  },
  {
   "cell_type": "code",
   "execution_count": 1,
   "metadata": {},
   "outputs": [],
   "source": [
    "## Load necessary libraries\n",
    "import pandas as pd\n",
    "from pyprojroot.here import here\n",
    "from textwrap3 import wrap\n",
    "\n",
    "import os\n",
    "import openai\n",
    "import sys\n",
    "\n",
    "sys.path.append('../..')\n",
    "\n",
    "from dotenv import load_dotenv, find_dotenv\n",
    "\n",
    "_= load_dotenv(find_dotenv())\n",
    "\n",
    "openai.api_key = os.environ['OPENAI_API_KEY']"
   ]
  },
  {
   "cell_type": "markdown",
   "metadata": {},
   "source": [
    "## Load the dataset"
   ]
  },
  {
   "cell_type": "code",
   "execution_count": 21,
   "metadata": {},
   "outputs": [],
   "source": [
    "rawdat = pd.read_csv(here('data/RAW_recipes.csv'))\n",
    "## just pick first 10,000 to keep the code runtime meanageable\n",
    "rawdat = rawdat.head(10000)# Assume 'rawdat' is your DataFrame\n",
    "#rawdat.to_csv(here('data/RAW_recipes.csv'), index=False)"
   ]
  },
  {
   "cell_type": "code",
   "execution_count": 3,
   "metadata": {},
   "outputs": [],
   "source": [
    "rawdat.tags[0:2]\n",
    "rawdat['tags'] = rawdat['tags'].apply(lambda x: x.strip('[]'))"
   ]
  },
  {
   "cell_type": "markdown",
   "metadata": {},
   "source": [
    "We will be using the recipes dataset from this Kaggle article. It contains a nice set of structured and un-structured text. The relevant data here is structured text of number of ingredients, time taken to make the dish and unstructured part of the data is the steps and description of the recipe. "
   ]
  },
  {
   "cell_type": "code",
   "execution_count": 4,
   "metadata": {},
   "outputs": [
    {
     "data": {
      "text/html": [
       "<div>\n",
       "<style scoped>\n",
       "    .dataframe tbody tr th:only-of-type {\n",
       "        vertical-align: middle;\n",
       "    }\n",
       "\n",
       "    .dataframe tbody tr th {\n",
       "        vertical-align: top;\n",
       "    }\n",
       "\n",
       "    .dataframe thead th {\n",
       "        text-align: right;\n",
       "    }\n",
       "</style>\n",
       "<table border=\"1\" class=\"dataframe\">\n",
       "  <thead>\n",
       "    <tr style=\"text-align: right;\">\n",
       "      <th></th>\n",
       "      <th>name</th>\n",
       "      <th>id</th>\n",
       "      <th>minutes</th>\n",
       "      <th>contributor_id</th>\n",
       "      <th>submitted</th>\n",
       "      <th>tags</th>\n",
       "      <th>nutrition</th>\n",
       "      <th>n_steps</th>\n",
       "      <th>steps</th>\n",
       "      <th>description</th>\n",
       "      <th>ingredients</th>\n",
       "      <th>n_ingredients</th>\n",
       "    </tr>\n",
       "  </thead>\n",
       "  <tbody>\n",
       "    <tr>\n",
       "      <th>0</th>\n",
       "      <td>arriba   baked winter squash mexican style</td>\n",
       "      <td>137739</td>\n",
       "      <td>55</td>\n",
       "      <td>47892</td>\n",
       "      <td>2005-09-16</td>\n",
       "      <td>'60-minutes-or-less', 'time-to-make', 'course'...</td>\n",
       "      <td>[51.5, 0.0, 13.0, 0.0, 2.0, 0.0, 4.0]</td>\n",
       "      <td>11</td>\n",
       "      <td>['make a choice and proceed with recipe', 'dep...</td>\n",
       "      <td>autumn is my favorite time of year to cook! th...</td>\n",
       "      <td>['winter squash', 'mexican seasoning', 'mixed ...</td>\n",
       "      <td>7</td>\n",
       "    </tr>\n",
       "    <tr>\n",
       "      <th>1</th>\n",
       "      <td>a bit different  breakfast pizza</td>\n",
       "      <td>31490</td>\n",
       "      <td>30</td>\n",
       "      <td>26278</td>\n",
       "      <td>2002-06-17</td>\n",
       "      <td>'30-minutes-or-less', 'time-to-make', 'course'...</td>\n",
       "      <td>[173.4, 18.0, 0.0, 17.0, 22.0, 35.0, 1.0]</td>\n",
       "      <td>9</td>\n",
       "      <td>['preheat oven to 425 degrees f', 'press dough...</td>\n",
       "      <td>this recipe calls for the crust to be prebaked...</td>\n",
       "      <td>['prepared pizza crust', 'sausage patty', 'egg...</td>\n",
       "      <td>6</td>\n",
       "    </tr>\n",
       "    <tr>\n",
       "      <th>2</th>\n",
       "      <td>all in the kitchen  chili</td>\n",
       "      <td>112140</td>\n",
       "      <td>130</td>\n",
       "      <td>196586</td>\n",
       "      <td>2005-02-25</td>\n",
       "      <td>'time-to-make', 'course', 'preparation', 'main...</td>\n",
       "      <td>[269.8, 22.0, 32.0, 48.0, 39.0, 27.0, 5.0]</td>\n",
       "      <td>6</td>\n",
       "      <td>['brown ground beef in large pot', 'add choppe...</td>\n",
       "      <td>this modified version of 'mom's' chili was a h...</td>\n",
       "      <td>['ground beef', 'yellow onions', 'diced tomato...</td>\n",
       "      <td>13</td>\n",
       "    </tr>\n",
       "    <tr>\n",
       "      <th>3</th>\n",
       "      <td>alouette  potatoes</td>\n",
       "      <td>59389</td>\n",
       "      <td>45</td>\n",
       "      <td>68585</td>\n",
       "      <td>2003-04-14</td>\n",
       "      <td>'60-minutes-or-less', 'time-to-make', 'course'...</td>\n",
       "      <td>[368.1, 17.0, 10.0, 2.0, 14.0, 8.0, 20.0]</td>\n",
       "      <td>11</td>\n",
       "      <td>['place potatoes in a large pot of lightly sal...</td>\n",
       "      <td>this is a super easy, great tasting, make ahea...</td>\n",
       "      <td>['spreadable cheese with garlic and herbs', 'n...</td>\n",
       "      <td>11</td>\n",
       "    </tr>\n",
       "    <tr>\n",
       "      <th>4</th>\n",
       "      <td>amish  tomato ketchup  for canning</td>\n",
       "      <td>44061</td>\n",
       "      <td>190</td>\n",
       "      <td>41706</td>\n",
       "      <td>2002-10-25</td>\n",
       "      <td>'weeknight', 'time-to-make', 'course', 'main-i...</td>\n",
       "      <td>[352.9, 1.0, 337.0, 23.0, 3.0, 0.0, 28.0]</td>\n",
       "      <td>5</td>\n",
       "      <td>['mix all ingredients&amp; boil for 2 1 / 2 hours ...</td>\n",
       "      <td>my dh's amish mother raised him on this recipe...</td>\n",
       "      <td>['tomato juice', 'apple cider vinegar', 'sugar...</td>\n",
       "      <td>8</td>\n",
       "    </tr>\n",
       "  </tbody>\n",
       "</table>\n",
       "</div>"
      ],
      "text/plain": [
       "                                         name      id  minutes  \\\n",
       "0  arriba   baked winter squash mexican style  137739       55   \n",
       "1            a bit different  breakfast pizza   31490       30   \n",
       "2                   all in the kitchen  chili  112140      130   \n",
       "3                          alouette  potatoes   59389       45   \n",
       "4          amish  tomato ketchup  for canning   44061      190   \n",
       "\n",
       "   contributor_id   submitted  \\\n",
       "0           47892  2005-09-16   \n",
       "1           26278  2002-06-17   \n",
       "2          196586  2005-02-25   \n",
       "3           68585  2003-04-14   \n",
       "4           41706  2002-10-25   \n",
       "\n",
       "                                                tags  \\\n",
       "0  '60-minutes-or-less', 'time-to-make', 'course'...   \n",
       "1  '30-minutes-or-less', 'time-to-make', 'course'...   \n",
       "2  'time-to-make', 'course', 'preparation', 'main...   \n",
       "3  '60-minutes-or-less', 'time-to-make', 'course'...   \n",
       "4  'weeknight', 'time-to-make', 'course', 'main-i...   \n",
       "\n",
       "                                    nutrition  n_steps  \\\n",
       "0       [51.5, 0.0, 13.0, 0.0, 2.0, 0.0, 4.0]       11   \n",
       "1   [173.4, 18.0, 0.0, 17.0, 22.0, 35.0, 1.0]        9   \n",
       "2  [269.8, 22.0, 32.0, 48.0, 39.0, 27.0, 5.0]        6   \n",
       "3   [368.1, 17.0, 10.0, 2.0, 14.0, 8.0, 20.0]       11   \n",
       "4   [352.9, 1.0, 337.0, 23.0, 3.0, 0.0, 28.0]        5   \n",
       "\n",
       "                                               steps  \\\n",
       "0  ['make a choice and proceed with recipe', 'dep...   \n",
       "1  ['preheat oven to 425 degrees f', 'press dough...   \n",
       "2  ['brown ground beef in large pot', 'add choppe...   \n",
       "3  ['place potatoes in a large pot of lightly sal...   \n",
       "4  ['mix all ingredients& boil for 2 1 / 2 hours ...   \n",
       "\n",
       "                                         description  \\\n",
       "0  autumn is my favorite time of year to cook! th...   \n",
       "1  this recipe calls for the crust to be prebaked...   \n",
       "2  this modified version of 'mom's' chili was a h...   \n",
       "3  this is a super easy, great tasting, make ahea...   \n",
       "4  my dh's amish mother raised him on this recipe...   \n",
       "\n",
       "                                         ingredients  n_ingredients  \n",
       "0  ['winter squash', 'mexican seasoning', 'mixed ...              7  \n",
       "1  ['prepared pizza crust', 'sausage patty', 'egg...              6  \n",
       "2  ['ground beef', 'yellow onions', 'diced tomato...             13  \n",
       "3  ['spreadable cheese with garlic and herbs', 'n...             11  \n",
       "4  ['tomato juice', 'apple cider vinegar', 'sugar...              8  "
      ]
     },
     "execution_count": 4,
     "metadata": {},
     "output_type": "execute_result"
    }
   ],
   "source": [
    "import regex as re\n",
    "\n",
    "## remove the NAs\n",
    "rawdat.fillna(' ',inplace=True)\n",
    "def remove_non_ascii(text):\n",
    "    return re.sub(r'[^\\x00-\\x7F]+', '',text)\n",
    "\n",
    "# Apply the function to each cell in the DataFrame\n",
    "#rawdat['name'] = rawdat['name'].apply(lambda x: remove_non_ascii(x))\n",
    "\n",
    "for colname in (rawdat.columns):\n",
    "    #print(colname)\n",
    "    if rawdat[colname].dtype == \"object\":\n",
    "        rawdat[colname] = rawdat[colname].apply(lambda x: remove_non_ascii(x))\n",
    "\n",
    "\n",
    "rawdat.head()\n",
    "## remove the non ascii words"
   ]
  },
  {
   "cell_type": "markdown",
   "metadata": {},
   "source": [
    "## Process the dataset\n",
    "#### Identify the main unstructured text and corresponding metadata to include"
   ]
  },
  {
   "cell_type": "code",
   "execution_count": 5,
   "metadata": {},
   "outputs": [
    {
     "data": {
      "text/html": [
       "<div>\n",
       "<style scoped>\n",
       "    .dataframe tbody tr th:only-of-type {\n",
       "        vertical-align: middle;\n",
       "    }\n",
       "\n",
       "    .dataframe tbody tr th {\n",
       "        vertical-align: top;\n",
       "    }\n",
       "\n",
       "    .dataframe thead th {\n",
       "        text-align: right;\n",
       "    }\n",
       "</style>\n",
       "<table border=\"1\" class=\"dataframe\">\n",
       "  <thead>\n",
       "    <tr style=\"text-align: right;\">\n",
       "      <th></th>\n",
       "      <th>name</th>\n",
       "      <th>steps</th>\n",
       "      <th>description</th>\n",
       "      <th>ingredients</th>\n",
       "      <th>tags</th>\n",
       "      <th>minutes</th>\n",
       "      <th>number_of_steps</th>\n",
       "      <th>number_of_ingredients</th>\n",
       "      <th>content</th>\n",
       "    </tr>\n",
       "  </thead>\n",
       "  <tbody>\n",
       "    <tr>\n",
       "      <th>0</th>\n",
       "      <td>arriba   baked winter squash mexican style</td>\n",
       "      <td>['make a choice and proceed with recipe', 'dep...</td>\n",
       "      <td>autumn is my favorite time of year to cook! th...</td>\n",
       "      <td>['winter squash', 'mexican seasoning', 'mixed ...</td>\n",
       "      <td>'60-minutes-or-less', 'time-to-make', 'course'...</td>\n",
       "      <td>55</td>\n",
       "      <td>11</td>\n",
       "      <td>7</td>\n",
       "      <td>autumn is my favorite time of year to cook! th...</td>\n",
       "    </tr>\n",
       "  </tbody>\n",
       "</table>\n",
       "</div>"
      ],
      "text/plain": [
       "                                         name  \\\n",
       "0  arriba   baked winter squash mexican style   \n",
       "\n",
       "                                               steps  \\\n",
       "0  ['make a choice and proceed with recipe', 'dep...   \n",
       "\n",
       "                                         description  \\\n",
       "0  autumn is my favorite time of year to cook! th...   \n",
       "\n",
       "                                         ingredients  \\\n",
       "0  ['winter squash', 'mexican seasoning', 'mixed ...   \n",
       "\n",
       "                                                tags  minutes  \\\n",
       "0  '60-minutes-or-less', 'time-to-make', 'course'...       55   \n",
       "\n",
       "   number_of_steps  number_of_ingredients  \\\n",
       "0               11                      7   \n",
       "\n",
       "                                             content  \n",
       "0  autumn is my favorite time of year to cook! th...  "
      ]
     },
     "execution_count": 5,
     "metadata": {},
     "output_type": "execute_result"
    }
   ],
   "source": [
    "# Select necessary columns from rawdat DataFrame\n",
    "newDF = rawdat[['name', 'steps', 'description', 'ingredients', 'tags', 'minutes', 'n_steps', 'n_ingredients']].copy()\n",
    "\n",
    "# Concatenate 'description', 'steps', and 'ingredients' columns into a new 'content' column\n",
    "newDF['content'] = newDF['description'].str.cat([newDF['steps'], newDF['ingredients']], sep=' ')\n",
    "newDF.rename(columns={'n_steps': 'number_of_steps'}, inplace=True)\n",
    "newDF.rename(columns={'n_ingredients': 'number_of_ingredients'}, inplace=True)\n",
    "\n",
    "# Copy 'n_steps' and 'n_ingredients' columns from rawdat to newDF\n",
    "#newDF['number_of_steps'] = rawdat['n_steps']\n",
    "#newDF['number_of_ingredients'] = rawdat['n_ingredients']\n",
    "\n",
    "\n",
    "# Display all columns of the first row\n",
    "newDF.head(1)"
   ]
  },
  {
   "cell_type": "markdown",
   "metadata": {},
   "source": [
    "## Chunking and Embedding"
   ]
  },
  {
   "cell_type": "code",
   "execution_count": 6,
   "metadata": {},
   "outputs": [
    {
     "name": "stderr",
     "output_type": "stream",
     "text": [
      "/Users/parikshitmehta/Knowledge_Graph_RAG/kgvenv/lib/python3.10/site-packages/langchain_core/_api/deprecation.py:117: LangChainDeprecationWarning: The class `langchain_community.embeddings.openai.OpenAIEmbeddings` was deprecated in langchain-community 0.1.0 and will be removed in 0.2.0. An updated version of the class exists in the langchain-openai package and should be used instead. To use it run `pip install -U langchain-openai` and import as `from langchain_openai import OpenAIEmbeddings`.\n",
      "  warn_deprecated(\n"
     ]
    }
   ],
   "source": [
    "from langchain.vectorstores import Chroma\n",
    "from langchain.embeddings.openai import OpenAIEmbeddings\n",
    "\n",
    "from langchain.text_splitter import CharacterTextSplitter,RecursiveCharacterTextSplitter\n",
    "\n",
    "persist_dir = 'docs/chroma/'\n",
    "\n",
    "embedding = OpenAIEmbeddings()\n",
    "\n",
    "## Lets try to create the chunks\n",
    "\n",
    "def chunk_section(section, chunk_size, chunk_overlap):\n",
    "    #print(section)\n",
    "    text_splitter = RecursiveCharacterTextSplitter(\n",
    "        separators=[\"\\n\\n\",\"\\n\",\" \",\"\"],\n",
    "        chunk_size = chunk_size,\n",
    "        chunk_overlap= chunk_overlap,\n",
    "        length_function = len\n",
    "    )\n",
    "    chunks = text_splitter.create_documents(\n",
    "        texts=[section[\"content\"]],\n",
    "        metadatas=[{\"name\":section[\"name\"],\n",
    "                    \"tags\":section[\"tags\"],\n",
    "                    \"ingredients\":section[\"ingredients\"],\n",
    "                    \"minutes\":section[\"minutes\"],\n",
    "                    \"number_of_steps\":section[\"number_of_steps\"],\n",
    "                    \"number_of_ingredients\":section[\"number_of_ingredients\"]}]\n",
    "    )\n",
    "    return[{\"text\":chunk.page_content,\n",
    "            \"name\":chunk.metadata[\"name\"],\n",
    "            \"tags\":chunk.metadata[\"tags\"],\n",
    "            \"minutes\":chunk.metadata[\"minutes\"],\n",
    "            \"number_of_steps\":chunk.metadata[\"number_of_steps\"],\n",
    "            \"number_of_ingredients\":chunk.metadata[\"number_of_ingredients\"]} for chunk in chunks]\n",
    "\n",
    "\n",
    "\n",
    "chunked_data = newDF.apply(lambda row: chunk_section(row, 200,50),axis=1)\n",
    "\n",
    "# Flatten the list of lists\n",
    "chunked_data = [item for sublist in chunked_data for item in sublist]\n",
    "\n",
    "# Convert the list of dictionaries to a DataFrame\n",
    "outDF = pd.DataFrame(chunked_data)"
   ]
  },
  {
   "cell_type": "code",
   "execution_count": 7,
   "metadata": {},
   "outputs": [
    {
     "data": {
      "text/html": [
       "<div>\n",
       "<style scoped>\n",
       "    .dataframe tbody tr th:only-of-type {\n",
       "        vertical-align: middle;\n",
       "    }\n",
       "\n",
       "    .dataframe tbody tr th {\n",
       "        vertical-align: top;\n",
       "    }\n",
       "\n",
       "    .dataframe thead th {\n",
       "        text-align: right;\n",
       "    }\n",
       "</style>\n",
       "<table border=\"1\" class=\"dataframe\">\n",
       "  <thead>\n",
       "    <tr style=\"text-align: right;\">\n",
       "      <th></th>\n",
       "      <th>text</th>\n",
       "      <th>name</th>\n",
       "      <th>tags</th>\n",
       "      <th>minutes</th>\n",
       "      <th>number_of_steps</th>\n",
       "      <th>number_of_ingredients</th>\n",
       "    </tr>\n",
       "  </thead>\n",
       "  <tbody>\n",
       "    <tr>\n",
       "      <th>0</th>\n",
       "      <td>autumn is my favorite time of year to cook! th...</td>\n",
       "      <td>arriba   baked winter squash mexican style</td>\n",
       "      <td>'60-minutes-or-less', 'time-to-make', 'course'...</td>\n",
       "      <td>55</td>\n",
       "      <td>11</td>\n",
       "      <td>7</td>\n",
       "    </tr>\n",
       "    <tr>\n",
       "      <th>1</th>\n",
       "      <td>two of my posted mexican-inspired seasoning mi...</td>\n",
       "      <td>arriba   baked winter squash mexican style</td>\n",
       "      <td>'60-minutes-or-less', 'time-to-make', 'course'...</td>\n",
       "      <td>55</td>\n",
       "      <td>11</td>\n",
       "      <td>7</td>\n",
       "    </tr>\n",
       "    <tr>\n",
       "      <th>2</th>\n",
       "      <td>, cut into half or fourths', 'remove seeds', '...</td>\n",
       "      <td>arriba   baked winter squash mexican style</td>\n",
       "      <td>'60-minutes-or-less', 'time-to-make', 'course'...</td>\n",
       "      <td>55</td>\n",
       "      <td>11</td>\n",
       "      <td>7</td>\n",
       "    </tr>\n",
       "    <tr>\n",
       "      <th>3</th>\n",
       "      <td>seasoning mix ii', 'for sweet squash , drizzle...</td>\n",
       "      <td>arriba   baked winter squash mexican style</td>\n",
       "      <td>'60-minutes-or-less', 'time-to-make', 'course'...</td>\n",
       "      <td>55</td>\n",
       "      <td>11</td>\n",
       "      <td>7</td>\n",
       "    </tr>\n",
       "    <tr>\n",
       "      <th>4</th>\n",
       "      <td>mix', 'bake at 350 degrees , again depending o...</td>\n",
       "      <td>arriba   baked winter squash mexican style</td>\n",
       "      <td>'60-minutes-or-less', 'time-to-make', 'course'...</td>\n",
       "      <td>55</td>\n",
       "      <td>11</td>\n",
       "      <td>7</td>\n",
       "    </tr>\n",
       "  </tbody>\n",
       "</table>\n",
       "</div>"
      ],
      "text/plain": [
       "                                                text  \\\n",
       "0  autumn is my favorite time of year to cook! th...   \n",
       "1  two of my posted mexican-inspired seasoning mi...   \n",
       "2  , cut into half or fourths', 'remove seeds', '...   \n",
       "3  seasoning mix ii', 'for sweet squash , drizzle...   \n",
       "4  mix', 'bake at 350 degrees , again depending o...   \n",
       "\n",
       "                                         name  \\\n",
       "0  arriba   baked winter squash mexican style   \n",
       "1  arriba   baked winter squash mexican style   \n",
       "2  arriba   baked winter squash mexican style   \n",
       "3  arriba   baked winter squash mexican style   \n",
       "4  arriba   baked winter squash mexican style   \n",
       "\n",
       "                                                tags  minutes  \\\n",
       "0  '60-minutes-or-less', 'time-to-make', 'course'...       55   \n",
       "1  '60-minutes-or-less', 'time-to-make', 'course'...       55   \n",
       "2  '60-minutes-or-less', 'time-to-make', 'course'...       55   \n",
       "3  '60-minutes-or-less', 'time-to-make', 'course'...       55   \n",
       "4  '60-minutes-or-less', 'time-to-make', 'course'...       55   \n",
       "\n",
       "   number_of_steps  number_of_ingredients  \n",
       "0               11                      7  \n",
       "1               11                      7  \n",
       "2               11                      7  \n",
       "3               11                      7  \n",
       "4               11                      7  "
      ]
     },
     "execution_count": 7,
     "metadata": {},
     "output_type": "execute_result"
    }
   ],
   "source": [
    "outDF.head()"
   ]
  },
  {
   "cell_type": "code",
   "execution_count": 8,
   "metadata": {},
   "outputs": [],
   "source": [
    "metadata = outDF[['name', 'tags','minutes','number_of_steps','number_of_ingredients']].to_dict('records')\n",
    "\n",
    "vectorDB_new = Chroma.from_texts(\n",
    "    texts = outDF['text'].tolist(),\n",
    "    metadatas = metadata,\n",
    "    embedding = embedding,\n",
    "    persist_directory = persist_dir\n",
    ")"
   ]
  },
  {
   "cell_type": "markdown",
   "metadata": {},
   "source": [
    "## Retrieval process"
   ]
  },
  {
   "cell_type": "code",
   "execution_count": 9,
   "metadata": {},
   "outputs": [],
   "source": [
    "## SelfQuery Retrieval \n",
    "from langchain.llms import OpenAI\n",
    "from langchain.retrievers.self_query.base import SelfQueryRetriever\n",
    "from langchain.chains.query_constructor.base import AttributeInfo, get_query_constructor_prompt, load_query_constructor_runnable\n",
    "## this is where we need to let the retriever know that there are metadatas available as part of the document\n",
    "metadata_field_info = [\n",
    "    AttributeInfo(\n",
    "        name = \"name\",\n",
    "        description = \"This is the recipe name\",\n",
    "        type = \"string\"\n",
    "    ),\n",
    "    AttributeInfo(\n",
    "        name = \"tags\",\n",
    "        description = \"This is the tags associated with the recipe\",\n",
    "        type = \"string\"\n",
    "   ),\n",
    "   AttributeInfo(\n",
    "       name=\"minutes\",\n",
    "       description=\"The total time for the recipe creation in minutes\",\n",
    "       type=\"integer\"\n",
    "   ),\n",
    "   AttributeInfo(\n",
    "       name =\"number_of_steps\",\n",
    "       description=\"The number of steps involved in creation of recipe\",\n",
    "       type=\"integer\"\n",
    "   ),\n",
    "   AttributeInfo(\n",
    "       name =\"number_of_ingredients\",\n",
    "       description=\"The number of ingredients involved in creation of recipe\",\n",
    "       type=\"integer\"\n",
    "   )\n",
    "]"
   ]
  },
  {
   "cell_type": "markdown",
   "metadata": {},
   "source": [
    "## Generate chains with and without metadata context"
   ]
  },
  {
   "cell_type": "code",
   "execution_count": 10,
   "metadata": {},
   "outputs": [
    {
     "name": "stderr",
     "output_type": "stream",
     "text": [
      "/Users/parikshitmehta/Knowledge_Graph_RAG/kgvenv/lib/python3.10/site-packages/langchain_core/_api/deprecation.py:117: LangChainDeprecationWarning: The class `langchain_community.llms.openai.OpenAI` was deprecated in langchain-community 0.0.10 and will be removed in 0.2.0. An updated version of the class exists in the langchain-openai package and should be used instead. To use it run `pip install -U langchain-openai` and import as `from langchain_openai import OpenAI`.\n",
      "  warn_deprecated(\n"
     ]
    }
   ],
   "source": [
    "document_content_description = \"Recipes\"\n",
    "llm = OpenAI(temperature=0)\n",
    "retriever = SelfQueryRetriever.from_llm(\n",
    "    llm,\n",
    "    vectorDB_new,\n",
    "    document_content_description,\n",
    "    metadata_field_info,\n",
    "    verbose=True,\n",
    "    enable_limit=True\n",
    ")"
   ]
  },
  {
   "cell_type": "code",
   "execution_count": 11,
   "metadata": {},
   "outputs": [],
   "source": [
    "question = \"Can you show me some vegetarian recipes using mexican flavors that take less than 60 minutes with 10 or less ingredients?\""
   ]
  },
  {
   "cell_type": "code",
   "execution_count": 12,
   "metadata": {},
   "outputs": [
    {
     "data": {
      "text/plain": [
       "[Document(page_content=\"'mexican-style tomatoes', 'vegetarian ground beef', 'onion', 'chili powder', 'cayenne', 'vegetable oil', 'cornbread batter']\", metadata={'minutes': 30, 'name': 'chili and cornbread casserole', 'number_of_ingredients': 8, 'number_of_steps': 10, 'tags': \"'30-minutes-or-less', 'time-to-make', 'course', 'main-ingredient', 'cuisine', 'preparation', 'occasion', 'north-american', 'breads', 'main-dish', 'beans', 'beef', 'american', 'southwestern-united-states', 'tex-mex', 'oven', 'easy', 'grains', 'dietary', 'spicy', 'one-dish-meal', 'comfort-food', 'inexpensive', 'meat', 'pasta-rice-and-grains', 'taste-mood', 'equipment'\"}),\n",
       " Document(page_content=\"'green bell pepper', 'vegetarian refried beans', 'flour tortillas', 'tomatoes', 'cheddar cheese', 'sour cream']\", metadata={'minutes': 25, 'name': 'cheesy mexican rice   bean burritos', 'number_of_ingredients': 8, 'number_of_steps': 8, 'tags': \"'30-minutes-or-less', 'time-to-make', 'course', 'main-ingredient', 'cuisine', 'preparation', 'occasion', 'north-american', 'eggs-dairy', 'mexican', 'easy', 'vegetarian', 'cheese', 'dietary', 'comfort-food', 'taste-mood'\"}),\n",
       " Document(page_content=\"'garlic', 'vegetarian chicken pieces', 'cooked brown rice', 'salsa', 'flour tortilla', 'mexican blend cheese']\", metadata={'minutes': 50, 'name': 'veat   chicken  fajitas', 'number_of_ingredients': 10, 'number_of_steps': 5, 'tags': \"'60-minutes-or-less', 'time-to-make', 'course', 'main-ingredient', 'cuisine', 'preparation', 'north-american', 'main-dish', 'beans', 'vegetables', 'mexican', 'vegetarian', 'dietary', 'pasta-rice-and-grains'\"})]"
      ]
     },
     "execution_count": 12,
     "metadata": {},
     "output_type": "execute_result"
    }
   ],
   "source": [
    "#retriever.get_relevant_documents(question)\n",
    "\n",
    "retriever.get_relevant_documents(question)"
   ]
  },
  {
   "cell_type": "code",
   "execution_count": 13,
   "metadata": {},
   "outputs": [
    {
     "name": "stderr",
     "output_type": "stream",
     "text": [
      "/Users/parikshitmehta/Knowledge_Graph_RAG/kgvenv/lib/python3.10/site-packages/langchain_core/_api/deprecation.py:117: LangChainDeprecationWarning: The function `__call__` was deprecated in LangChain 0.1.0 and will be removed in 0.2.0. Use invoke instead.\n",
      "  warn_deprecated(\n"
     ]
    },
    {
     "name": "stdout",
     "output_type": "stream",
     "text": [
      "Here are a few vegetarian recipes using Mexican flavors that take less than 60 minutes to make:\n",
      "\n",
      "1. **Vegetarian Chili with Tortilla Chips and Sour Cream**: This recipe takes approximately 10-15 minutes. Ingredients include tortilla chips, black beans, vegetarian chili, taco seasoning, shredded cheddar cheese, salsa, and sour cream.\n",
      "\n",
      "2. **Mexican Bean Soup with Tortilla Chips and Cheese**: This recipe takes approximately 30 minutes to 1 hour. Ingredients include onion, garlic, vegetable oil, stewed tomatoes, chicken broth, beef broth, water, Rotel tomatoes & chilies, and cumin.\n",
      "\n",
      "3. **Avocado Hummus with Tortilla Chips**: This recipe takes about 30 minutes. Ingredients include garlic, garbanzo beans, lemon juice, onion, avocado, green chili, salt, pepper, plum tomato, and green onion.\n",
      "\n",
      "I hope you find these recipes helpful for your vegetarian Mexican-inspired meal!\n"
     ]
    }
   ],
   "source": [
    "## Using Retrieval QA chain\n",
    "from langchain.chains import RetrievalQA\n",
    "from langchain_openai import ChatOpenAI\n",
    "\n",
    "retriever= RetrievalQA.from_chain_type(\n",
    "    llm= ChatOpenAI(),\n",
    "    chain_type= \"stuff\",\n",
    "    retriever = vectorDB_new.as_retriever(),\n",
    "    return_source_documents = True\n",
    ")\n",
    "question = \"Can you show me some vegetarian recipes using mexican flavors that take less than 60 minutes?\"\n",
    "\n",
    "response = retriever({\"query\":question})\n",
    "print(response['result'])"
   ]
  },
  {
   "cell_type": "code",
   "execution_count": 14,
   "metadata": {},
   "outputs": [],
   "source": [
    "## using get_query_constructor\n",
    "chain = load_query_constructor_runnable(\n",
    "    llm=ChatOpenAI(\n",
    "        model=\"gpt-3.5-turbo\",\n",
    "        temperature=0\n",
    "    ),\n",
    "    attribute_info=metadata_field_info,\n",
    "    document_contents=document_content_description,\n",
    "    fix_invalid=True\n",
    ")"
   ]
  },
  {
   "cell_type": "code",
   "execution_count": 15,
   "metadata": {},
   "outputs": [
    {
     "data": {
      "text/plain": [
       "StructuredQuery(query='vegetarian mexican flavors', filter=Operation(operator=<Operator.AND: 'and'>, arguments=[Comparison(comparator=<Comparator.LT: 'lt'>, attribute='minutes', value=60), Comparison(comparator=<Comparator.LT: 'lt'>, attribute='number_of_ingredients', value=10)]), limit=None)"
      ]
     },
     "execution_count": 15,
     "metadata": {},
     "output_type": "execute_result"
    }
   ],
   "source": [
    "query = \"Can you show me some vegetarian recipes using mexican flavors that take less than 60 minutes with less than 10 ingredients?\"\n",
    "chain.invoke(({\"query\": query}))"
   ]
  },
  {
   "cell_type": "code",
   "execution_count": 16,
   "metadata": {},
   "outputs": [],
   "source": [
    "sq_retriever = SelfQueryRetriever(\n",
    "    query_constructor=chain,\n",
    "    vectorstore=vectorDB_new,\n",
    "    verbose=True,\n",
    ")\n",
    "sq_qa = RetrievalQA.from_chain_type(\n",
    "    llm=llm,\n",
    "    chain_type=\"stuff\",\n",
    "    retriever=sq_retriever,\n",
    "    return_source_documents=True\n",
    ")\n",
    "def print_result(response_obj):\n",
    "    print(\"SOURCES: \\n\")\n",
    "    cnt = 1\n",
    "    for source_doc in response_obj[\"source_documents\"]:\n",
    "        print(f\"Chunk #{cnt}\")\n",
    "        cnt += 1\n",
    "        print(\"Source Metadata: \", source_doc.metadata)\n",
    "        print(\"Source Text:\")\n",
    "        print(source_doc.page_content)\n",
    "        print(\"\\n\")\n",
    "    print(\"RESULT: \\n\")\n",
    "    print(response_obj[\"result\"] + \"\\n\\n\")"
   ]
  },
  {
   "cell_type": "code",
   "execution_count": 17,
   "metadata": {},
   "outputs": [
    {
     "name": "stdout",
     "output_type": "stream",
     "text": [
      "SOURCES: \n",
      "\n",
      "Chunk #1\n",
      "Source Metadata:  {'minutes': 25, 'name': 'cheesy mexican rice   bean burritos', 'number_of_ingredients': 8, 'number_of_steps': 8, 'tags': \"'30-minutes-or-less', 'time-to-make', 'course', 'main-ingredient', 'cuisine', 'preparation', 'occasion', 'north-american', 'eggs-dairy', 'mexican', 'easy', 'vegetarian', 'cheese', 'dietary', 'comfort-food', 'taste-mood'\"}\n",
      "Source Text:\n",
      "'green bell pepper', 'vegetarian refried beans', 'flour tortillas', 'tomatoes', 'cheddar cheese', 'sour cream']\n",
      "\n",
      "\n",
      "Chunk #2\n",
      "Source Metadata:  {'minutes': 45, 'name': 'rosarita vegetarian chile  chile  relleno bake', 'number_of_ingredients': 8, 'number_of_steps': 15, 'tags': \"'60-minutes-or-less', 'time-to-make', 'course', 'main-ingredient', 'cuisine', 'preparation', 'north-american', 'main-dish', 'side-dishes', 'beans', 'eggs-dairy', 'mexican', 'easy', 'cheese', 'eggs', 'inexpensive'\"}\n",
      "Source Text:\n",
      "flour', 'diced green chilies', 'vegetarian refried beans', 'onion', 'salsa verde', 'monterey jack pepper cheese']\n",
      "\n",
      "\n",
      "Chunk #3\n",
      "Source Metadata:  {'minutes': 20, 'name': 'cajun style grits with black eyed peas salsa', 'number_of_ingredients': 8, 'number_of_steps': 6, 'tags': \"'30-minutes-or-less', 'time-to-make', 'course', 'cuisine', 'preparation', 'north-american', 'main-dish', 'american', 'cajun', 'southern-united-states', 'vegetarian', 'dietary', 'low-calorie', 'low-carb', 'low-in-something'\"}\n",
      "Source Text:\n",
      "'mexican blend cheese', 'black-eyed peas', 'salsa']\n",
      "\n",
      "\n",
      "Chunk #4\n",
      "Source Metadata:  {'minutes': 25, 'name': 'cheese and bean burritos', 'number_of_ingredients': 6, 'number_of_steps': 6, 'tags': \"'30-minutes-or-less', 'time-to-make', 'course', 'main-ingredient', 'cuisine', 'preparation', 'occasion', 'north-american', 'lunch', 'main-dish', 'beans', 'eggs-dairy', 'vegetables', 'american', 'mexican', 'southwestern-united-states', 'tex-mex', 'oven', 'easy', 'beginner-cook', 'potluck', 'diabetic', 'kid-friendly', 'vegetarian', 'grains', 'cheese', 'dietary', 'spicy', 'comfort-food', 'brown-bag', 'inexpensive', 'pasta-rice-and-grains', 'taste-mood', 'to-go', 'equipment'\"}\n",
      "Source Text:\n",
      "brown'] ['flour tortillas', 'vegetarian refried beans', 'green chilies', 'cumin', 'garlic powder', 'cheddar cheese']\n",
      "\n",
      "\n",
      "RESULT: \n",
      "\n",
      "\n",
      "One possible recipe that fits this criteria is a vegetarian bean and cheese quesadilla. To make this, you will need flour tortillas, vegetarian refried beans, diced green chilies, onion, salsa verde, monterey jack pepper cheese, and Mexican blend cheese. Begin by heating a large skillet over medium heat and lightly spraying it with cooking spray. Place a tortilla in the skillet and spread a layer of refried beans on one half. Top with diced green chilies, onion, and a sprinkle of cumin and garlic powder. Fold the tortilla in half and cook for 2-3 minutes on each side, until lightly browned. Repeat with remaining tortillas and filling ingredients. Serve with a side of salsa for dipping. This recipe should take less than 30 minutes to prepare and uses only 8 ingredients.\n",
      "\n",
      "\n"
     ]
    }
   ],
   "source": [
    "response = sq_qa({\"query\": query})\n",
    "print_result(response)"
   ]
  },
  {
   "cell_type": "code",
   "execution_count": 18,
   "metadata": {},
   "outputs": [
    {
     "data": {
      "text/plain": [
       "[' One possible recipe that fits this criteria is a vegetarian bean and',\n",
       " 'cheese quesadilla. To make this, you will need flour tortillas,',\n",
       " 'vegetarian refried beans, diced green chilies, onion, salsa verde,',\n",
       " 'monterey jack pepper cheese, and Mexican blend cheese. Begin by',\n",
       " 'heating a large skillet over medium heat and lightly spraying it with',\n",
       " 'cooking spray. Place a tortilla in the skillet and spread a layer of',\n",
       " 'refried beans on one half. Top with diced green chilies, onion, and a',\n",
       " 'sprinkle of cumin and garlic powder. Fold the tortilla in half and',\n",
       " 'cook for 2-3 minutes on each side, until lightly browned. Repeat with',\n",
       " 'remaining tortillas and filling ingredients. Serve with a side of',\n",
       " 'salsa for dipping. This recipe should take less than 30 minutes to',\n",
       " 'prepare and uses only 8 ingredients.']"
      ]
     },
     "execution_count": 18,
     "metadata": {},
     "output_type": "execute_result"
    }
   ],
   "source": [
    "wrap(response['result'])"
   ]
  }
 ],
 "metadata": {
  "kernelspec": {
   "display_name": "kgvenv",
   "language": "python",
   "name": "python3"
  },
  "language_info": {
   "codemirror_mode": {
    "name": "ipython",
    "version": 3
   },
   "file_extension": ".py",
   "mimetype": "text/x-python",
   "name": "python",
   "nbconvert_exporter": "python",
   "pygments_lexer": "ipython3",
   "version": "3.10.13"
  }
 },
 "nbformat": 4,
 "nbformat_minor": 2
}
