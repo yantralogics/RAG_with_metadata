{
 "cells": [
  {
   "cell_type": "markdown",
   "metadata": {},
   "source": [
    "# Generate documents with overlapping content"
   ]
  },
  {
   "cell_type": "markdown",
   "metadata": {},
   "source": [
    "### Get wikipedia page entries about different topics"
   ]
  },
  {
   "cell_type": "markdown",
   "metadata": {},
   "source": [
    "We use beautiful soup and requests to get content from Wikipedia on following topics. Renessiance, COVID, Postmodernism and Linkin Park. The idea is to create a list which contains text on each of this topics. We will additionally create an ID which will simply be the topic name, and the number of the paragraph that was parsed. "
   ]
  },
  {
   "cell_type": "code",
   "execution_count": 2,
   "metadata": {},
   "outputs": [],
   "source": [
    "import requests\n",
    "from bs4 import BeautifulSoup\n",
    "\n",
    "topics = [\"Renaissance\", \"COVID\", \"Postmodernism\", \"Linkin Park\"]\n",
    "\n",
    "data=[]\n",
    "for topic in topics:\n",
    "    url = f\"https://en.wikipedia.org/wiki/{topic}\"\n",
    "    response = requests.get(url)\n",
    "    soup = BeautifulSoup(response.text, 'html.parser')\n",
    "\n",
    "    title = soup.find(id=\"firstHeading\").text\n",
    "    first_paragraph = soup.find('p').text\n",
    "    paragraphs = soup.find_all('p')\n",
    "    cnt=1\n",
    "    for para in paragraphs:\n",
    "        text = para.text\n",
    "        id = topic + '_' +str(cnt)\n",
    "        data.append({'id':id, 'topic':topic,\n",
    "            'para_no':cnt, 'text':text})\n",
    "        cnt+=1\n",
    "\n",
    "    \n",
    "    #dict.append({'title':title, 'text':all_text})\n",
    "# Group paragraphs by topic\n",
    "topic_dict = {}\n",
    "for item in data:\n",
    "    if item['id'] not in topic_dict:\n",
    "        topic_dict[item['id']] = []\n",
    "    if len(item['text']) > 50:\n",
    "        topic_dict[item['id']].append(item['text'])"
   ]
  },
  {
   "cell_type": "markdown",
   "metadata": {},
   "source": [
    "### Random mixing of the topics in different documents\n",
    "\n",
    "Now that we have the dictionary that contains the topic paragraphs and text content, we will randomly mix the content across various documents. Once the documents are ready, we will save them in various text files. "
   ]
  },
  {
   "cell_type": "code",
   "execution_count": 8,
   "metadata": {},
   "outputs": [],
   "source": [
    "import random\n",
    "documents = []\n",
    "for _ in range(50):\n",
    "    document = []\n",
    "    topics = list(topic_dict.keys())\n",
    "    sequence = random.sample(range(len(topics)), 10)\n",
    "    #print(sequence)\n",
    "    selected_topics = [topics[i] for i in sequence]\n",
    "    \n",
    "    for topic in selected_topics:\n",
    "        if topic_dict[topic]:  # Check if the list is not empty\n",
    "            paragraph = (topic_dict[topic])\n",
    "            document.append(paragraph)\n",
    "    documents.append(document)\n"
   ]
  },
  {
   "cell_type": "code",
   "execution_count": 9,
   "metadata": {},
   "outputs": [
    {
     "data": {
      "text/plain": [
       "[['International research on vaccines and medicines in COVID‑19 is underway by government organisations, academic groups, and industry researchers.[476][477] The CDC has classified it to require a BSL3 grade laboratory.[478] There has been a great deal of COVID‑19 research, involving accelerated research processes and publishing shortcuts to meet the global demand.[479]\\n'],\n",
       " ['Postmodernism is an intellectual stance or mode of discourse[1][2] characterized by skepticism towards elements of the Enlightenment worldview. It questions the \"grand narratives\" of modernity, rejects the certainty of knowledge and stable meaning, and acknowledges the influence of ideology in maintaining political power.[3][4] The idea of objective claims is dismissed as naïve realism,[5] emphasizing the conditional nature of knowledge.[4] Postmodernism embraces self-referentiality, epistemological relativism, moral relativism, pluralism, irony, irreverence, and eclecticism.[4] It opposes the \"universal validity\" of binary oppositions, stable identity, hierarchy, and categorization.[6][7]\\n'],\n",
       " [\"In 1533, a fourteen-year-old Caterina de' Medici (1519–1589), born in Florence to Lorenzo de' Medici, Duke of Urbino and Madeleine de la Tour d'Auvergne, married Henry II of France, second son of King Francis I and Queen Claude. Though she became famous and infamous for her role in France's religious wars, she made a direct contribution in bringing arts, sciences, and music (including the origins of ballet) to the French court from her native Florence.\\n\"],\n",
       " [\"By the 15th century, writers, artists, and architects in Italy were well aware of the transformations that were taking place and were using phrases such as modi antichi (in the antique manner) or alle romana et alla antica (in the manner of the Romans and the ancients) to describe their work. In the 1330s Petrarch referred to pre-Christian times as antiqua (ancient) and to the Christian period as nova (new).[85] From Petrarch's Italian perspective, this new period (which included his own time) was an age of national eclipse.[85]\\nLeonardo Bruni was the first to use tripartite periodization in his History of the Florentine People (1442).[86] Bruni's first two periods were based on those of Petrarch, but he added a third period because he believed that Italy was no longer in a state of decline. Flavio Biondo used a similar framework in Decades of History from the Deterioration of the Roman Empire (1439–1453).\\n\"],\n",
       " ['The SARS-CoV-2 virus can infect a wide range of cells and systems of the body. COVID‑19 is most known for affecting the upper respiratory tract (sinuses, nose, and throat) and the lower respiratory tract (windpipe and lungs).[119] The lungs are the organs most affected by COVID‑19 because the virus accesses host cells via the receptor for the enzyme angiotensin-converting enzyme 2 (ACE2), which is most abundant on the surface of type II alveolar cells of the lungs.[120] The virus uses a special surface glycoprotein called a \"spike\" to connect to the ACE2 receptor and enter the host cell.[121]\\n'],\n",
       " ['The album\\'s first single, \"What I\\'ve Done\", was released on April 2,[68] and premiered on MTV and Fuse within the same week.[72] The single peaked at no. 7 on the Billboard Hot 100.[73] The song is also used in soundtrack for the 2007 action film, Transformers.[74][75] Mike Shinoda was also featured on the Styles of Beyond song \"Second to None\", which was also included in the film.[75] Later in the year, the band won the \"Favorite Alternative Artist\" in the American Music Awards.[76] The band also saw success with the rest of the album\\'s singles, \"Bleed It Out\", \"Shadow of the Day\", \"Given Up\", and \"Leave Out All the Rest\", which were released throughout 2007 and early 2008. The band also collaborated with Busta Rhymes on his single \"We Made It\", which was released on April 29.[77]\\n'],\n",
       " ['The rediscovery of ancient texts and the invention of the printing press in about 1440 democratized learning and allowed a faster propagation of more widely distributed ideas. In the first period of the Italian Renaissance, humanists favored the study of humanities over natural philosophy or applied mathematics, and their reverence for classical sources further enshrined the Aristotelian and Ptolemaic views of the universe. Writing around 1450, Nicholas Cusanus anticipated the heliocentric worldview of Copernicus, but in a philosophical fashion.\\n'],\n",
       " ['In February 2023, the band started an interactive game on their website teasing the 20th anniversary of Meteora.[233] On February 6, they revealed a previously unreleased demo \"Lost\" that was formally released on February 10, as the lead single from the reissue of the album, released on April 7.[234][235] The second single, \"Fighting Myself\" was released on March 24.[236]\\n'],\n",
       " ['Churchmen such as Erasmus and Luther proposed reform to the Church, often based on humanist textual criticism of the New Testament.[25] In October 1517, Luther published the Ninety-five Theses, challenging papal authority and criticizing its perceived corruption, particularly with regard to instances of sold indulgences.[i] The 95 Theses led to the Reformation, a break with the Roman Catholic Church that previously claimed hegemony in Western Europe. Humanism and the Renaissance therefore played a direct role in sparking the Reformation, as well as in many other contemporaneous religious debates and conflicts.\\n']]"
      ]
     },
     "execution_count": 9,
     "metadata": {},
     "output_type": "execute_result"
    }
   ],
   "source": [
    "\n",
    "documents[23]"
   ]
  },
  {
   "cell_type": "code",
   "execution_count": 10,
   "metadata": {},
   "outputs": [],
   "source": [
    "import os\n",
    "import re\n",
    "import textwrap\n",
    "\n",
    "def save_documents(documents):\n",
    "    # Create the directory if it doesn't exist\n",
    "    if not os.path.exists('data_docs'):\n",
    "        os.makedirs('data_docs')\n",
    "\n",
    "    # Iterate over the documents\n",
    "    for i, document in enumerate(documents, start=1):\n",
    "        # Remove non-ASCII characters\n",
    "        document = re.sub(r'[^\\x00-\\x7F]+', ' ', str(document))\n",
    "        document = re.sub(r'\\[\\d+\\]','',document)\n",
    "        document = re.sub(r'\\n','',document)    \n",
    "        document = document.replace('[', '').replace(']', '')\n",
    "        document = textwrap.fill(document, width=70)\n",
    "        # Save the document in a text file\n",
    "        with open(f'data_docs/document_{i}.txt', 'w') as f:\n",
    "            f.write(document)"
   ]
  },
  {
   "cell_type": "code",
   "execution_count": 11,
   "metadata": {},
   "outputs": [],
   "source": [
    "save_documents(documents)"
   ]
  }
 ],
 "metadata": {
  "kernelspec": {
   "display_name": "kgvenv",
   "language": "python",
   "name": "python3"
  },
  "language_info": {
   "codemirror_mode": {
    "name": "ipython",
    "version": 3
   },
   "file_extension": ".py",
   "mimetype": "text/x-python",
   "name": "python",
   "nbconvert_exporter": "python",
   "pygments_lexer": "ipython3",
   "version": "3.10.13"
  }
 },
 "nbformat": 4,
 "nbformat_minor": 2
}
