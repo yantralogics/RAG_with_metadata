{
 "cells": [
  {
   "cell_type": "markdown",
   "metadata": {},
   "source": [
    "# Generate documents with overlapping content"
   ]
  },
  {
   "cell_type": "markdown",
   "metadata": {},
   "source": [
    "### Get wikipedia page entries about different topics"
   ]
  },
  {
   "cell_type": "markdown",
   "metadata": {},
   "source": [
    "We use beautiful soup and requests to get content from Wikipedia on following topics. Renessiance, COVID, Postmodernism and Linkin Park. The idea is to create a list which contains text on each of this topics. We will additionally create an ID which will simply be the topic name, and the number of the paragraph that was parsed. "
   ]
  },
  {
   "cell_type": "code",
   "execution_count": 169,
   "metadata": {},
   "outputs": [],
   "source": [
    "import requests\n",
    "from bs4 import BeautifulSoup\n",
    "\n",
    "topics = [\"Renaissance\", \"COVID\", \"Postmodernism\", \"Linkin Park\"]\n",
    "\n",
    "data=[]\n",
    "for topic in topics:\n",
    "    url = f\"https://en.wikipedia.org/wiki/{topic}\"\n",
    "    response = requests.get(url)\n",
    "    soup = BeautifulSoup(response.text, 'html.parser')\n",
    "\n",
    "    title = soup.find(id=\"firstHeading\").text\n",
    "    first_paragraph = soup.find('p').text\n",
    "    paragraphs = soup.find_all('p')\n",
    "    cnt=1\n",
    "    for para in paragraphs:\n",
    "        text = para.text\n",
    "        id = topic + '_' +str(cnt)\n",
    "        data.append({'id':id, 'topic':topic,\n",
    "            'para_no':cnt, 'text':text})\n",
    "        cnt+=1\n",
    "\n",
    "    \n",
    "    #dict.append({'title':title, 'text':all_text})\n",
    "# Group paragraphs by topic\n",
    "topic_dict = {}\n",
    "for item in data:\n",
    "    if item['id'] not in topic_dict:\n",
    "        topic_dict[item['id']] = []\n",
    "    if len(item['text']) > 50:\n",
    "        topic_dict[item['id']].append(item['text'])"
   ]
  },
  {
   "cell_type": "code",
   "execution_count": 176,
   "metadata": {},
   "outputs": [],
   "source": [
    "import random\n",
    "\n",
    "\n"
   ]
  },
  {
   "cell_type": "code",
   "execution_count": 177,
   "metadata": {},
   "outputs": [],
   "source": [
    "documents = []\n",
    "for _ in range(50):\n",
    "    document = []\n",
    "    topics = list(topic_dict.keys())\n",
    "    sequence = random.sample(range(len(topics)), 10)\n",
    "    #print(sequence)\n",
    "    selected_topics = [topics[i] for i in sequence]\n",
    "    \n",
    "    for topic in selected_topics:\n",
    "        if topic_dict[topic]:  # Check if the list is not empty\n",
    "            paragraph = (topic_dict[topic])\n",
    "            document.append(paragraph)\n",
    "    documents.append(document)\n"
   ]
  },
  {
   "cell_type": "code",
   "execution_count": 178,
   "metadata": {},
   "outputs": [
    {
     "data": {
      "text/plain": [
       "[['Autopsies of people who died of COVID‑19 have found diffuse alveolar damage, and lymphocyte-containing inflammatory infiltrates within the lung.[123]\\n'],\n",
       " ['Rapid accumulation of knowledge, which has characterized the development of science since the 17th century, had never occurred before that time. The new kind of scientific activity emerged only in a few countries of Western Europe, and it was restricted to that small area for about two hundred years. (Since the 19th century, scientific knowledge has been assimilated by the rest of the world).'],\n",
       " [\"The plague was carried by fleas on sailing vessels returning from the ports of Asia, spreading quickly due to lack of proper sanitation: the population of England, then about 4.2 million, lost 1.4 million people to the bubonic plague. Florence's population was nearly halved in the year 1347. As a result of the decimation in the populace the value of the working class increased, and commoners came to enjoy more freedom. To answer the increased need for labor, workers traveled in search of the most favorable position economically.[50]\\n\"],\n",
       " ['Several COVID-19 vaccines have been approved and distributed in various countries, many of which have initiated mass vaccination campaigns. Other preventive measures include physical or social distancing, quarantining, ventilation of indoor spaces, use of face masks or coverings in public, covering coughs and sneezes, hand washing, and keeping unwashed hands away from the face. While drugs have been developed to inhibit the virus, the primary treatment is still symptomatic, managing the disease through supportive care, isolation, and experimental measures.\\n'],\n",
       " ['Some early studies suggest 10% to 20% of people with COVID‑19 will experience symptoms lasting longer than a month.[293][294] A majority of those who were admitted to hospital with severe disease report long-term problems including fatigue and shortness of breath.[295] On 30 October 2020, WHO chief Tedros Adhanom warned that \"to a significant number of people, the COVID virus poses a range of serious long-term effects\". He has described the vast spectrum of COVID‑19 symptoms that fluctuate over time as \"really concerning\". They range from fatigue, a cough and shortness of breath, to inflammation and injury of major organs\\xa0– including the lungs and heart, and also neurological and psychologic effects. Symptoms often overlap and can affect any system in the body. Infected people have reported cyclical bouts of fatigue, headaches, months of complete exhaustion, mood swings, and other symptoms. Tedros therefore concluded that a strategy of achieving herd immunity by infection, rather than vaccination, is \"morally unconscionable and unfeasible\".[296]\\n'],\n",
       " ['A unique characteristic of some Renaissance libraries is that they were open to the public. These libraries were places where ideas were exchanged and where scholarship and reading were considered both pleasurable and beneficial to the mind and soul. As freethinking was a hallmark of the age, many libraries contained a wide range of writers. Classical texts could be found alongside humanist writings. These informal associations of intellectuals profoundly influenced Renaissance culture. Some of the richest \"bibliophiles\" built libraries as temples to books and knowledge. A number of libraries appeared as manifestations of immense wealth joined with a love of books. In some cases, cultivated library builders were also committed to offering others the opportunity to use their collections. Prominent aristocrats and princes of the Church created great libraries for the use of their courts, called \"court libraries\", and were housed in lavishly designed monumental buildings decorated with ornate woodwork, and the walls adorned with frescoes (Murray, Stuart A.P.).\\n'],\n",
       " ['Some criticism responds to postmodernist skepticism towards objective reality and claims that truth and morality are relative, including the argument that this relativism is self-contradictory. In part in reference to postmodernism, conservative English philosopher Roger Scruton wrote, \"A writer who says that there are no truths, or that all truth is \\'merely relative,\\' is asking you not to believe him. So don\\'t.\"[81] In 2014, the philosophers Theodore Schick and Lewis Vaughn wrote: \"the statement that \\'No unrestricted universal generalizations are true\\' is itself an unrestricted universal generalization. So if relativism in any of its forms is true, it\\'s false.\"[82] Some responses to postmodernist relativism argue that, contrary to its proponents\\' usual intentions, it does not necessarily benefit the political left.[82][83] For example, the historian Richard J. Evans argued that if relativism rejects truth, it can legitimize far-right pseudohistory such as Holocaust denial.[83]\\n'],\n",
       " ['A high incidence of thrombosis and venous thromboembolism occurs in people transferred to intensive care units with COVID‑19 infections, and may be related to poor prognosis.[142] Blood vessel dysfunction and clot formation (as suggested by high D-dimer levels caused by blood clots) may have a significant role in mortality, incidents of clots leading to pulmonary embolisms, and ischaemic events (strokes) within the brain found as complications leading to death in people infected with COVID‑19.[143] Infection may initiate a chain of vasoconstrictive responses within the body, including pulmonary vasoconstriction – a possible mechanism in which oxygenation decreases during pneumonia.[143] Furthermore, damage of arterioles and capillaries was found in brain tissue samples of people who died from COVID‑19.[144][145]\\n'],\n",
       " [\"The transition from modernism to postmodernism is often said to have happened at 3:32\\xa0pm on 15 July in 1972, when Pruitt–Igoe, a housing development for low-income people in St. Louis designed by architect Minoru Yamasaki, which had been a prize-winning version of Le Corbusier's 'machine for modern living,' was deemed uninhabitable and was torn down.[67] Since then, postmodernism has involved theories that embrace and aim to create diversity. It exalts uncertainty, flexibility and change and rejects utopianism while embracing a utopian way of thinking and acting.[68] Postmodernity of 'resistance' seeks to deconstruct modernism and is a critique of the origins without necessarily returning to them.[69] As a result of postmodernism, planners are much less inclined to lay a firm or steady claim to there being one single 'right way' of engaging in urban planning and are more open to different styles and ideas of 'how to plan'.[70]\\n\"],\n",
       " ['There are many unknowns for pregnant women during the COVID-19 pandemic. Given that they are prone to have complications and severe disease infection with other types of coronaviruses, they have been identified as a vulnerable group and advised to take supplementary preventive measures.[163]\\n']]"
      ]
     },
     "execution_count": 178,
     "metadata": {},
     "output_type": "execute_result"
    }
   ],
   "source": [
    "\n",
    "documents[23]"
   ]
  },
  {
   "cell_type": "code",
   "execution_count": 179,
   "metadata": {},
   "outputs": [],
   "source": [
    "import os\n",
    "import re\n",
    "import textwrap\n",
    "\n",
    "def save_documents(documents):\n",
    "    # Create the directory if it doesn't exist\n",
    "    if not os.path.exists('data_docs'):\n",
    "        os.makedirs('data_docs')\n",
    "\n",
    "    # Iterate over the documents\n",
    "    for i, document in enumerate(documents, start=1):\n",
    "        # Remove non-ASCII characters\n",
    "        document = re.sub(r'[^\\x00-\\x7F]+', ' ', str(document))\n",
    "        document = textwrap.fill(document, width=70)\n",
    "        # Save the document in a text file\n",
    "        with open(f'data_docs/document_{i}.txt', 'w') as f:\n",
    "            f.write(document)"
   ]
  },
  {
   "cell_type": "code",
   "execution_count": 180,
   "metadata": {},
   "outputs": [],
   "source": [
    "save_documents(documents)"
   ]
  }
 ],
 "metadata": {
  "kernelspec": {
   "display_name": "kgvenv",
   "language": "python",
   "name": "python3"
  },
  "language_info": {
   "codemirror_mode": {
    "name": "ipython",
    "version": 3
   },
   "file_extension": ".py",
   "mimetype": "text/x-python",
   "name": "python",
   "nbconvert_exporter": "python",
   "pygments_lexer": "ipython3",
   "version": "3.10.13"
  }
 },
 "nbformat": 4,
 "nbformat_minor": 2
}
