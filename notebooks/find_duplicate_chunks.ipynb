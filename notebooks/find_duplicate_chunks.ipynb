{
 "cells": [
  {
   "cell_type": "markdown",
   "metadata": {},
   "source": [
    "# Discover duplicate content across documents "
   ]
  },
  {
   "cell_type": "code",
   "execution_count": 294,
   "metadata": {},
   "outputs": [],
   "source": [
    "from langchain.vectorstores import Chroma\n",
    "from langchain.embeddings.openai import OpenAIEmbeddings\n",
    "\n",
    "from langchain.text_splitter import CharacterTextSplitter,RecursiveCharacterTextSplitter\n"
   ]
  },
  {
   "cell_type": "markdown",
   "metadata": {},
   "source": [
    "### Read the documents\n",
    "\n",
    "We will read the document stored in the directory where we placed it. We will read the contents of the document along with file name and store it in a datafarme."
   ]
  },
  {
   "cell_type": "code",
   "execution_count": 295,
   "metadata": {},
   "outputs": [],
   "source": [
    "import os\n",
    "import pandas as pd\n",
    "\n",
    "## We need to read the documents and create a dataframe that contains the name of the document in one column and the text in another column\n",
    "docs_dir = \"data_docs\"\n",
    "\n",
    "# Get the list of files in the directory\n",
    "file_list = os.listdir(docs_dir)\n",
    "\n",
    "# Initialize empty lists to store the document names and texts\n",
    "doc_names = []\n",
    "doc_texts = []\n",
    "\n",
    "# Read each file and extract the name and text\n",
    "for file_name in file_list:\n",
    "    file_path = os.path.join(docs_dir, file_name)\n",
    "    with open(file_path, 'r') as file:\n",
    "        doc_names.append(file_name)\n",
    "        doc_texts.append(file.read())\n",
    "\n",
    "# Create a dataframe with the document names and texts\n",
    "df = pd.DataFrame({'Document_Name': doc_names, 'Text': doc_texts})\n"
   ]
  },
  {
   "cell_type": "code",
   "execution_count": 296,
   "metadata": {},
   "outputs": [
    {
     "data": {
      "text/plain": [
       "Index(['Document_Name', 'Text'], dtype='object')"
      ]
     },
     "execution_count": 296,
     "metadata": {},
     "output_type": "execute_result"
    }
   ],
   "source": [
    "df2 = df.reset_index(drop=True)\n",
    "df2.columns"
   ]
  },
  {
   "cell_type": "markdown",
   "metadata": {},
   "source": [
    "### Chunk the documents with metadata \n",
    "\n",
    "After we have obtained the main dataframe of the document names and content, we will chunk it in small sizes, we will preserve the document name and any relevant metadata along."
   ]
  },
  {
   "cell_type": "code",
   "execution_count": 297,
   "metadata": {},
   "outputs": [],
   "source": [
    "from textwrap3 import wrap\n",
    "def chunk_section(section, chunk_size, chunk_overlap):\n",
    "    #print(section[\"Document_Name\"])\n",
    "    text_splitter = RecursiveCharacterTextSplitter(\n",
    "        separators=[\"\\n\\n\",\"\\n\",\" \",\"\"],\n",
    "        chunk_size = chunk_size,\n",
    "        chunk_overlap= chunk_overlap,\n",
    "        length_function = len\n",
    "    )\n",
    "    chunks = text_splitter.create_documents(\n",
    "        texts=[section[\"Text\"]],\n",
    "        metadatas=[{\"name\":section[\"Document_Name\"]}]               \n",
    "    )\n",
    "    #print(chunks)\n",
    "    return[{\"text\":chunk.page_content,\n",
    "            \"name\":chunk.metadata[\"name\"]} for chunk in chunks]\n",
    "\n",
    "chunked_data = df2.apply(lambda x: chunk_section(x, 1000, 100), axis=1)\n",
    "\n",
    "# Flatten the list of lists\n",
    "chunked_data = [item for sublist in chunked_data for item in sublist]\n",
    "\n",
    "# Create a dataframe with the chunked data\n",
    "df_chunked = pd.DataFrame(chunked_data)\n",
    "\n"
   ]
  },
  {
   "cell_type": "code",
   "execution_count": 298,
   "metadata": {},
   "outputs": [
    {
     "data": {
      "text/html": [
       "<div>\n",
       "<style scoped>\n",
       "    .dataframe tbody tr th:only-of-type {\n",
       "        vertical-align: middle;\n",
       "    }\n",
       "\n",
       "    .dataframe tbody tr th {\n",
       "        vertical-align: top;\n",
       "    }\n",
       "\n",
       "    .dataframe thead th {\n",
       "        text-align: right;\n",
       "    }\n",
       "</style>\n",
       "<table border=\"1\" class=\"dataframe\">\n",
       "  <thead>\n",
       "    <tr style=\"text-align: right;\">\n",
       "      <th></th>\n",
       "      <th>text</th>\n",
       "      <th>name</th>\n",
       "      <th>chunk_no</th>\n",
       "    </tr>\n",
       "  </thead>\n",
       "  <tbody>\n",
       "    <tr>\n",
       "      <th>0</th>\n",
       "      <td>'In 1495 the Italian Renaissance arrived in Fr...</td>\n",
       "      <td>document_3.txt</td>\n",
       "      <td>1</td>\n",
       "    </tr>\n",
       "    <tr>\n",
       "      <th>1</th>\n",
       "      <td>Copernicus, in De revolutionibus orbium coeles...</td>\n",
       "      <td>document_3.txt</td>\n",
       "      <td>2</td>\n",
       "    </tr>\n",
       "    <tr>\n",
       "      <th>2</th>\n",
       "      <td>injury and chronic damage to the cardiovascula...</td>\n",
       "      <td>document_3.txt</td>\n",
       "      <td>3</td>\n",
       "    </tr>\n",
       "    <tr>\n",
       "      <th>3</th>\n",
       "      <td>turned within as that which was turned without...</td>\n",
       "      <td>document_3.txt</td>\n",
       "      <td>4</td>\n",
       "    </tr>\n",
       "    <tr>\n",
       "      <th>4</th>\n",
       "      <td>variants studied (including Omicron) killed br...</td>\n",
       "      <td>document_3.txt</td>\n",
       "      <td>5</td>\n",
       "    </tr>\n",
       "  </tbody>\n",
       "</table>\n",
       "</div>"
      ],
      "text/plain": [
       "                                                text            name  chunk_no\n",
       "0  'In 1495 the Italian Renaissance arrived in Fr...  document_3.txt         1\n",
       "1  Copernicus, in De revolutionibus orbium coeles...  document_3.txt         2\n",
       "2  injury and chronic damage to the cardiovascula...  document_3.txt         3\n",
       "3  turned within as that which was turned without...  document_3.txt         4\n",
       "4  variants studied (including Omicron) killed br...  document_3.txt         5"
      ]
     },
     "execution_count": 298,
     "metadata": {},
     "output_type": "execute_result"
    }
   ],
   "source": [
    "df_chunked.head()\n",
    "\n",
    "df_chunked['chunk_no'] = df_chunked.groupby('name')['name'].transform(lambda x: range(1,len(x)+1))\n",
    "df_chunked.head()"
   ]
  },
  {
   "cell_type": "markdown",
   "metadata": {},
   "source": [
    "### Vector embedding of the documents with metadata\n",
    "\n",
    "We will use Chroma vector store and store contents of the files there to use it later on."
   ]
  },
  {
   "cell_type": "code",
   "execution_count": 299,
   "metadata": {},
   "outputs": [],
   "source": [
    "persist_dir = \"doc/chroma/\"\n",
    "\n",
    "metadata = df_chunked[['name']].to_dict('records')\n",
    "\n",
    "\n",
    "embedding = OpenAIEmbeddings()\n",
    "\n",
    "vectorDB_new = Chroma.from_texts(\n",
    "    texts = df_chunked['text'].tolist(),\n",
    "    metadatas = metadata,\n",
    "    embedding = embedding,\n",
    "    persist_directory = persist_dir\n",
    ")"
   ]
  },
  {
   "cell_type": "markdown",
   "metadata": {},
   "source": [
    "### Documents duplication search\n"
   ]
  },
  {
   "cell_type": "code",
   "execution_count": 300,
   "metadata": {},
   "outputs": [
    {
     "name": "stdout",
     "output_type": "stream",
     "text": [
      "[-0.008627031732097298, -0.0036220105000574275, 0.011151361023649371, -0.03407845195521086, -0.01834167311777821, 0.015924760706875613, -0.012030848957575474, -0.004706263899989682, -0.00932525076954443, -0.023135214513864102]\n",
      "(Document(page_content='the band sign a deal with the company as a developing artist in 1999.\\nHowever, the label advised the band to change their name to avoid\\nconfusion with Hybrid. The band considered the names \"Plear\" and\\n\"Platinum Lotus Foundation\" before deciding on \"Linkin Park\", a play\\non and homage to Santa Monica\\\\\\'s Lincoln Park, now called Christine\\nEmerson Reed Park. They initially wanted to use the name \"Lincoln\\nPark\", however they changed it to \"Linkin\" to acquire the internet\\ndomain \"linkinpark.com\".\\\\n\\', \\'On January 19, 2010, Linkin Park\\nreleased a new song titled \"Not Alone\" as part of a compilation from\\nMusic for Relief called Download to Donate for Haiti in support of the\\nHaiti Earthquake crisis. On February 10, 2010, Linkin Park released\\nthe official music video for the song on their homepage. The single\\nitself was released on October 21, 2011.\\\\n\\', \\'According to the US\\nCenters for Disease Control and Prevention, pregnant women are at', metadata={'name': 'document_43.txt'}), 0.17446533979130516)\n",
      "(Document(page_content='the band sign a deal with the company as a developing artist in 1999.\\nHowever, the label advised the band to change their name to avoid\\nconfusion with Hybrid. The band considered the names \"Plear\" and\\n\"Platinum Lotus Foundation\" before deciding on \"Linkin Park\", a play\\non and homage to Santa Monica\\\\\\'s Lincoln Park, now called Christine\\nEmerson Reed Park. They initially wanted to use the name \"Lincoln\\nPark\", however they changed it to \"Linkin\" to acquire the internet\\ndomain \"linkinpark.com\".\\\\n\\', \\'On January 19, 2010, Linkin Park\\nreleased a new song titled \"Not Alone\" as part of a compilation from\\nMusic for Relief called Download to Donate for Haiti in support of the\\nHaiti Earthquake crisis. On February 10, 2010, Linkin Park released\\nthe official music video for the song on their homepage. The single\\nitself was released on October 21, 2011.\\\\n\\', \\'According to the US\\nCenters for Disease Control and Prevention, pregnant women are at', metadata={'name': 'document_43.txt'}), 0.17461585998535156)\n",
      "(Document(page_content='the band sign a deal with the company as a developing artist in 1999.\\nHowever, the label advised the band to change their name to avoid\\nconfusion with Hybrid. The band considered the names \"Plear\" and\\n\"Platinum Lotus Foundation\" before deciding on \"Linkin Park\", a play\\non and homage to Santa Monica\\\\\\'s Lincoln Park, now called Christine\\nEmerson Reed Park. They initially wanted to use the name \"Lincoln\\nPark\", however they changed it to \"Linkin\" to acquire the internet\\ndomain \"linkinpark.com\".\\\\n\\', \\'On January 19, 2010, Linkin Park\\nreleased a new song titled \"Not Alone\" as part of a compilation from\\nMusic for Relief called Download to Donate for Haiti in support of the\\nHaiti Earthquake crisis. On February 10, 2010, Linkin Park released\\nthe official music video for the song on their homepage. The single\\nitself was released on October 21, 2011.\\\\n\\', \\'According to the US\\nCenters for Disease Control and Prevention, pregnant women are at', metadata={'name': 'document_43.txt'}), 0.17461585998535156)\n",
      "(Document(page_content='Jeff Blue in March 1999. Bennington, formerly of a post-grunge band\\nGrey Daze, became a standout among applicants because of the dynamic\\nin his singing style. The band then agreed on changing their name from\\nXero to Hybrid Theory; the newborn vocal chemistry between Shinoda and\\nBennington helped revive the band, inciting them to work on new\\nmaterial. Additionally, the band recruited bassist Kyle Christner to\\ntemporarily fill in for Farrell. In May 1999, the band released a\\nself-titled extended play, which they circulated across internet chat-\\nrooms and forums with the help of an online \"street team\". In October\\n1999, Christner was replaced by Scott Koziol and Ian Hornbeck, whom\\nalong with Delson, provided bass tracks for the band\\\\\\'s\\nrecordings.\\\\n\\', \"Following the success of Hybrid Theory and\\nReanimation, Linkin Park spent a significant amount of time touring\\naround the United States. The band members began to work on new', metadata={'name': 'document_46.txt'}), 0.27864551544189453)\n",
      "(Document(page_content='Jeff Blue in March 1999. Bennington, formerly of a post-grunge band\\nGrey Daze, became a standout among applicants because of the dynamic\\nin his singing style. The band then agreed on changing their name from\\nXero to Hybrid Theory; the newborn vocal chemistry between Shinoda and\\nBennington helped revive the band, inciting them to work on new\\nmaterial. Additionally, the band recruited bassist Kyle Christner to\\ntemporarily fill in for Farrell. In May 1999, the band released a\\nself-titled extended play, which they circulated across internet chat-\\nrooms and forums with the help of an online \"street team\". In October\\n1999, Christner was replaced by Scott Koziol and Ian Hornbeck, whom\\nalong with Delson, provided bass tracks for the band\\\\\\'s\\nrecordings.\\\\n\\', \"Following the success of Hybrid Theory and\\nReanimation, Linkin Park spent a significant amount of time touring\\naround the United States. The band members began to work on new', metadata={'name': 'document_46.txt'}), 0.27864551544189453)\n"
     ]
    }
   ],
   "source": [
    "## Now that we have stored the vectors in the vector store, we can query the vector store to get the most similar documents to a given query document\n",
    "\n",
    "\n",
    "quyery = \"\"\" The band still struggled to sign a record deal.\n",
    "            They turned to Jeff Blue for additional help after\n",
    "            facing numerous rejections from several major record labels.\n",
    "            After failing to catch Warner Bros. Records on three previous reviews,\n",
    "            Blue, who was now the vice president of Warner Bros. Records,\n",
    "            helped the band sign a deal with the company as a developing artist in 1999.\n",
    "            However, the label advised the band to change their name to avoid confusion\n",
    "            with Hybrid.The band considered the names \"Plear\" and \"Platinum Lotus Foundation\"\n",
    "            before deciding on \"Linkin Park\",a play on and homage to Santa Monica's Lincoln Park,\n",
    "            now called Christine Emerson Reed Park.[23] They initially wanted to use the name \"Lincoln Park\",\n",
    "            however they changed it to \"Linkin\" to acquire the internet domain \"linkinpark.com\". \"\"\"\n",
    "\n",
    "\n",
    "# Encode the query using the embeddings\n",
    "query_embedding = embedding.embed_query(quyery)\n",
    "#embedding.encode\n",
    "# Search the vector store for the most similar chunks to the query\n",
    "print(query_embedding[0:10])\n",
    "\n",
    "\n",
    "most_similar_chunks = vectorDB_new.similarity_search_with_score(quyery,5)\n",
    "\n",
    "# Print the chunks with the highest overlap\n",
    "for chunk in most_similar_chunks:\n",
    "    print(chunk)\n",
    "\n",
    "    \n"
   ]
  },
  {
   "cell_type": "code",
   "execution_count": 301,
   "metadata": {},
   "outputs": [
    {
     "name": "stdout",
     "output_type": "stream",
     "text": [
      "'In 1495 the Italian Renaissance arrived in France, imported by King\n",
      "Charles VIII after his invasion of Italy. A factor that promoted the\n",
      "spread of secularism was the inability of the Church to offer\n",
      "assistance against the Black Death. Francis I imported Italian art and\n",
      "artists, including Leonardo da Vinci, and built ornate palaces at\n",
      "great expense. Writers such as Fran ois Rabelais, Pierre de Ronsard,\n",
      "Joachim du Bellay, and Michel de Montaigne, painters such as Jean\n",
      "Clouet, and musicians such as Jean Mouton also borrowed from the\n",
      "spirit of the Renaissance.\\n', 'Some view this as a \"scientific\n",
      "revolution\", heralding the beginning of the modern age, others as an\n",
      "acceleration of a continuous process stretching from the ancient world\n",
      "to the present day. Significant scientific advances were made during\n",
      "this time by Galileo Galilei, Tycho Brahe, and Johannes Kepler.\n",
      "Copernicus, in De revolutionibus orbium coelestium (On the Revolutions\n"
     ]
    },
    {
     "name": "stdout",
     "output_type": "stream",
     "text": [
      "(Document(page_content='\\'In 1495 the Italian Renaissance arrived in France, imported by King\\nCharles VIII after his invasion of Italy. A factor that promoted the\\nspread of secularism was the inability of the Church to offer\\nassistance against the Black Death. Francis I imported Italian art and\\nartists, including Leonardo da Vinci, and built ornate palaces at\\ngreat expense. Writers such as Fran ois Rabelais, Pierre de Ronsard,\\nJoachim du Bellay, and Michel de Montaigne, painters such as Jean\\nClouet, and musicians such as Jean Mouton also borrowed from the\\nspirit of the Renaissance.\\\\n\\', \\'Some view this as a \"scientific\\nrevolution\", heralding the beginning of the modern age, others as an\\nacceleration of a continuous process stretching from the ancient world\\nto the present day. Significant scientific advances were made during\\nthis time by Galileo Galilei, Tycho Brahe, and Johannes Kepler.\\nCopernicus, in De revolutionibus orbium coelestium (On the Revolutions', metadata={'name': 'document_3.txt'}), 0.0)\n",
      "(Document(page_content='\\'In 1495 the Italian Renaissance arrived in France, imported by King\\nCharles VIII after his invasion of Italy. A factor that promoted the\\nspread of secularism was the inability of the Church to offer\\nassistance against the Black Death. Francis I imported Italian art and\\nartists, including Leonardo da Vinci, and built ornate palaces at\\ngreat expense. Writers such as Fran ois Rabelais, Pierre de Ronsard,\\nJoachim du Bellay, and Michel de Montaigne, painters such as Jean\\nClouet, and musicians such as Jean Mouton also borrowed from the\\nspirit of the Renaissance.\\\\n\\', \\'Some view this as a \"scientific\\nrevolution\", heralding the beginning of the modern age, others as an\\nacceleration of a continuous process stretching from the ancient world\\nto the present day. Significant scientific advances were made during\\nthis time by Galileo Galilei, Tycho Brahe, and Johannes Kepler.\\nCopernicus, in De revolutionibus orbium coelestium (On the Revolutions', metadata={'name': 'document_3.txt'}), 0.0)\n",
      "(Document(page_content='\\'In 1495 the Italian Renaissance arrived in France, imported by King\\nCharles VIII after his invasion of Italy. A factor that promoted the\\nspread of secularism was the inability of the Church to offer\\nassistance against the Black Death. Francis I imported Italian art and\\nartists, including Leonardo da Vinci, and built ornate palaces at\\ngreat expense. Writers such as Fran ois Rabelais, Pierre de Ronsard,\\nJoachim du Bellay, and Michel de Montaigne, painters such as Jean\\nClouet, and musicians such as Jean Mouton also borrowed from the\\nspirit of the Renaissance.\\\\n\\', \\'Some view this as a \"scientific\\nrevolution\", heralding the beginning of the modern age, others as an\\nacceleration of a continuous process stretching from the ancient world\\nto the present day. Significant scientific advances were made during\\nthis time by Galileo Galilei, Tycho Brahe, and Johannes Kepler.\\nCopernicus, in De revolutionibus orbium coelestium (On the Revolutions', metadata={'name': 'document_3.txt'}), 2.4800639948807657e-05)\n",
      "(Document(page_content=\"to Matthias.\\\\n', 'In 1495 the Italian Renaissance arrived in France,\\nimported by King Charles VIII after his invasion of Italy. A factor\\nthat promoted the spread of secularism was the inability of the Church\\nto offer assistance against the Black Death. Francis I imported\\nItalian art and artists, including Leonardo da Vinci, and built ornate\\npalaces at great expense. Writers such as Fran ois Rabelais, Pierre de\\nRonsard, Joachim du Bellay, and Michel de Montaigne, painters such as\\nJean Clouet, and musicians such as Jean Mouton also borrowed from the\\nspirit of the Renaissance.\\\\n', 'In the 15th century, the Renaissance\\nspread rapidly from its birthplace in Florence to the rest of Italy\\nand soon to the rest of Europe. The invention of the printing press by\\nGerman printer Johannes Gutenberg allowed the rapid transmission of\\nthese new ideas. As it spread, its ideas diversified and changed,\\nbeing adapted to local culture. In the 20th century, scholars began to\", metadata={'name': 'document_39.txt'}), 0.0738271176815033)\n",
      "(Document(page_content=\"to Matthias.\\\\n', 'In 1495 the Italian Renaissance arrived in France,\\nimported by King Charles VIII after his invasion of Italy. A factor\\nthat promoted the spread of secularism was the inability of the Church\\nto offer assistance against the Black Death. Francis I imported\\nItalian art and artists, including Leonardo da Vinci, and built ornate\\npalaces at great expense. Writers such as Fran ois Rabelais, Pierre de\\nRonsard, Joachim du Bellay, and Michel de Montaigne, painters such as\\nJean Clouet, and musicians such as Jean Mouton also borrowed from the\\nspirit of the Renaissance.\\\\n', 'In the 15th century, the Renaissance\\nspread rapidly from its birthplace in Florence to the rest of Italy\\nand soon to the rest of Europe. The invention of the printing press by\\nGerman printer Johannes Gutenberg allowed the rapid transmission of\\nthese new ideas. As it spread, its ideas diversified and changed,\\nbeing adapted to local culture. In the 20th century, scholars began to\", metadata={'name': 'document_39.txt'}), 0.0738271176815033)\n"
     ]
    }
   ],
   "source": [
    "## Use a document segment from one of the documents and search through the rest of the documents to identify where you can find the same \n",
    "\n",
    "query = df_chunked.loc[0, 'text']\n",
    "print(query)\n",
    "\n",
    "## Now we need to search for the query in the rest of the documents\n",
    "# Search for the query in the rest of the documents\n",
    "most_similar_chunks = vectorDB_new.similarity_search_with_score(query, 5)\n",
    "\n",
    "# Print the chunks with the highest overlap\n",
    "for chunk in most_similar_chunks:\n",
    "    print(chunk)\n",
    "\n"
   ]
  },
  {
   "cell_type": "code",
   "execution_count": 302,
   "metadata": {},
   "outputs": [],
   "source": [
    "### Finding common texts appraring common in all the documents\n",
    "\n",
    "scores = []\n",
    "metadata = []\n",
    "\n",
    "for i in range(0, len(df_chunked)):\n",
    "    query = df_chunked.loc[i, 'text']\n",
    "    most_similar_chunks = vectorDB_new.similarity_search_with_score(query, 5)\n",
    "    scores.append([chunk[1] for chunk in most_similar_chunks])\n",
    "    metadata.append([chunk[0].metadata for chunk in most_similar_chunks])\n"
   ]
  },
  {
   "cell_type": "code",
   "execution_count": 303,
   "metadata": {},
   "outputs": [
    {
     "data": {
      "text/html": [
       "<div>\n",
       "<style scoped>\n",
       "    .dataframe tbody tr th:only-of-type {\n",
       "        vertical-align: middle;\n",
       "    }\n",
       "\n",
       "    .dataframe tbody tr th {\n",
       "        vertical-align: top;\n",
       "    }\n",
       "\n",
       "    .dataframe thead th {\n",
       "        text-align: right;\n",
       "    }\n",
       "</style>\n",
       "<table border=\"1\" class=\"dataframe\">\n",
       "  <thead>\n",
       "    <tr style=\"text-align: right;\">\n",
       "      <th></th>\n",
       "      <th>Document_1</th>\n",
       "      <th>Document_2</th>\n",
       "      <th>Document_3</th>\n",
       "      <th>Document_4</th>\n",
       "      <th>Document_5</th>\n",
       "    </tr>\n",
       "  </thead>\n",
       "  <tbody>\n",
       "    <tr>\n",
       "      <th>0</th>\n",
       "      <td>document_3</td>\n",
       "      <td>document_3</td>\n",
       "      <td>document_3</td>\n",
       "      <td>document_39</td>\n",
       "      <td>document_39</td>\n",
       "    </tr>\n",
       "    <tr>\n",
       "      <th>1</th>\n",
       "      <td>document_3</td>\n",
       "      <td>document_3</td>\n",
       "      <td>document_3</td>\n",
       "      <td>document_21</td>\n",
       "      <td>document_21</td>\n",
       "    </tr>\n",
       "    <tr>\n",
       "      <th>2</th>\n",
       "      <td>document_3</td>\n",
       "      <td>document_3</td>\n",
       "      <td>document_3</td>\n",
       "      <td>document_20</td>\n",
       "      <td>document_20</td>\n",
       "    </tr>\n",
       "    <tr>\n",
       "      <th>3</th>\n",
       "      <td>document_3</td>\n",
       "      <td>document_3</td>\n",
       "      <td>document_3</td>\n",
       "      <td>document_35</td>\n",
       "      <td>document_35</td>\n",
       "    </tr>\n",
       "    <tr>\n",
       "      <th>4</th>\n",
       "      <td>document_3</td>\n",
       "      <td>document_3</td>\n",
       "      <td>document_3</td>\n",
       "      <td>document_29</td>\n",
       "      <td>document_29</td>\n",
       "    </tr>\n",
       "  </tbody>\n",
       "</table>\n",
       "</div>"
      ],
      "text/plain": [
       "   Document_1  Document_2  Document_3   Document_4   Document_5\n",
       "0  document_3  document_3  document_3  document_39  document_39\n",
       "1  document_3  document_3  document_3  document_21  document_21\n",
       "2  document_3  document_3  document_3  document_20  document_20\n",
       "3  document_3  document_3  document_3  document_35  document_35\n",
       "4  document_3  document_3  document_3  document_29  document_29"
      ]
     },
     "execution_count": 303,
     "metadata": {},
     "output_type": "execute_result"
    }
   ],
   "source": [
    "scores_df = pd.DataFrame(scores)\n",
    "scores_df.columns = ['Rank_1', 'Rank_2', 'Rank_3', 'Rank_4', 'Rank_5']\n",
    "\n",
    "import regex as re\n",
    "import pandas as pd\n",
    "\n",
    "metalist = []\n",
    "\n",
    "for i in range(0, len(metadata)):\n",
    "    this_metadata = metadata[i]\n",
    "    #print(this_metadata)\n",
    "    pattern = r'document_\\d+'\n",
    "    texts = [re.search(pattern, m['name']).group() for m in this_metadata]\n",
    "    metalist.append(texts)\n",
    "    #print(metalist)\n",
    "\n",
    "metadata_df = pd.DataFrame(metalist)\n",
    "\n",
    "metadata_df.columns = [f'Document_{i}' for i in range(1, 6)]\n",
    "metadata_df.head()"
   ]
  },
  {
   "cell_type": "code",
   "execution_count": 304,
   "metadata": {},
   "outputs": [
    {
     "data": {
      "text/html": [
       "<div>\n",
       "<style scoped>\n",
       "    .dataframe tbody tr th:only-of-type {\n",
       "        vertical-align: middle;\n",
       "    }\n",
       "\n",
       "    .dataframe tbody tr th {\n",
       "        vertical-align: top;\n",
       "    }\n",
       "\n",
       "    .dataframe thead th {\n",
       "        text-align: right;\n",
       "    }\n",
       "</style>\n",
       "<table border=\"1\" class=\"dataframe\">\n",
       "  <thead>\n",
       "    <tr style=\"text-align: right;\">\n",
       "      <th></th>\n",
       "      <th>text</th>\n",
       "      <th>name</th>\n",
       "      <th>chunk_no</th>\n",
       "      <th>Rank_1</th>\n",
       "      <th>Rank_2</th>\n",
       "      <th>Rank_3</th>\n",
       "      <th>Rank_4</th>\n",
       "      <th>Rank_5</th>\n",
       "      <th>Document_1</th>\n",
       "      <th>Document_2</th>\n",
       "      <th>Document_3</th>\n",
       "      <th>Document_4</th>\n",
       "      <th>Document_5</th>\n",
       "    </tr>\n",
       "  </thead>\n",
       "  <tbody>\n",
       "    <tr>\n",
       "      <th>0</th>\n",
       "      <td>'In 1495 the Italian Renaissance arrived in Fr...</td>\n",
       "      <td>document_3.txt</td>\n",
       "      <td>1</td>\n",
       "      <td>0.000000</td>\n",
       "      <td>0.000000</td>\n",
       "      <td>0.000025</td>\n",
       "      <td>0.073827</td>\n",
       "      <td>0.073827</td>\n",
       "      <td>document_3</td>\n",
       "      <td>document_3</td>\n",
       "      <td>document_3</td>\n",
       "      <td>document_39</td>\n",
       "      <td>document_39</td>\n",
       "    </tr>\n",
       "    <tr>\n",
       "      <th>1</th>\n",
       "      <td>Copernicus, in De revolutionibus orbium coeles...</td>\n",
       "      <td>document_3.txt</td>\n",
       "      <td>2</td>\n",
       "      <td>0.000023</td>\n",
       "      <td>0.000023</td>\n",
       "      <td>0.000023</td>\n",
       "      <td>0.204725</td>\n",
       "      <td>0.204963</td>\n",
       "      <td>document_3</td>\n",
       "      <td>document_3</td>\n",
       "      <td>document_3</td>\n",
       "      <td>document_21</td>\n",
       "      <td>document_21</td>\n",
       "    </tr>\n",
       "    <tr>\n",
       "      <th>2</th>\n",
       "      <td>injury and chronic damage to the cardiovascula...</td>\n",
       "      <td>document_3.txt</td>\n",
       "      <td>3</td>\n",
       "      <td>0.000077</td>\n",
       "      <td>0.000077</td>\n",
       "      <td>0.000077</td>\n",
       "      <td>0.098618</td>\n",
       "      <td>0.098618</td>\n",
       "      <td>document_3</td>\n",
       "      <td>document_3</td>\n",
       "      <td>document_3</td>\n",
       "      <td>document_20</td>\n",
       "      <td>document_20</td>\n",
       "    </tr>\n",
       "    <tr>\n",
       "      <th>3</th>\n",
       "      <td>turned within as that which was turned without...</td>\n",
       "      <td>document_3.txt</td>\n",
       "      <td>4</td>\n",
       "      <td>0.000004</td>\n",
       "      <td>0.000004</td>\n",
       "      <td>0.000004</td>\n",
       "      <td>0.328250</td>\n",
       "      <td>0.328250</td>\n",
       "      <td>document_3</td>\n",
       "      <td>document_3</td>\n",
       "      <td>document_3</td>\n",
       "      <td>document_35</td>\n",
       "      <td>document_35</td>\n",
       "    </tr>\n",
       "    <tr>\n",
       "      <th>4</th>\n",
       "      <td>variants studied (including Omicron) killed br...</td>\n",
       "      <td>document_3.txt</td>\n",
       "      <td>5</td>\n",
       "      <td>0.000003</td>\n",
       "      <td>0.000003</td>\n",
       "      <td>0.000003</td>\n",
       "      <td>0.222909</td>\n",
       "      <td>0.222909</td>\n",
       "      <td>document_3</td>\n",
       "      <td>document_3</td>\n",
       "      <td>document_3</td>\n",
       "      <td>document_29</td>\n",
       "      <td>document_29</td>\n",
       "    </tr>\n",
       "  </tbody>\n",
       "</table>\n",
       "</div>"
      ],
      "text/plain": [
       "                                                text            name  \\\n",
       "0  'In 1495 the Italian Renaissance arrived in Fr...  document_3.txt   \n",
       "1  Copernicus, in De revolutionibus orbium coeles...  document_3.txt   \n",
       "2  injury and chronic damage to the cardiovascula...  document_3.txt   \n",
       "3  turned within as that which was turned without...  document_3.txt   \n",
       "4  variants studied (including Omicron) killed br...  document_3.txt   \n",
       "\n",
       "   chunk_no    Rank_1    Rank_2    Rank_3    Rank_4    Rank_5  Document_1  \\\n",
       "0         1  0.000000  0.000000  0.000025  0.073827  0.073827  document_3   \n",
       "1         2  0.000023  0.000023  0.000023  0.204725  0.204963  document_3   \n",
       "2         3  0.000077  0.000077  0.000077  0.098618  0.098618  document_3   \n",
       "3         4  0.000004  0.000004  0.000004  0.328250  0.328250  document_3   \n",
       "4         5  0.000003  0.000003  0.000003  0.222909  0.222909  document_3   \n",
       "\n",
       "   Document_2  Document_3   Document_4   Document_5  \n",
       "0  document_3  document_3  document_39  document_39  \n",
       "1  document_3  document_3  document_21  document_21  \n",
       "2  document_3  document_3  document_20  document_20  \n",
       "3  document_3  document_3  document_35  document_35  \n",
       "4  document_3  document_3  document_29  document_29  "
      ]
     },
     "execution_count": 304,
     "metadata": {},
     "output_type": "execute_result"
    }
   ],
   "source": [
    "# Concatenate the scores and metadata dataframes\n",
    "df_final = pd.concat([df_chunked,scores_df, metadata_df], axis=1)\n",
    "df_final.head(5)"
   ]
  },
  {
   "cell_type": "code",
   "execution_count": 305,
   "metadata": {},
   "outputs": [
    {
     "data": {
      "text/plain": [
       "'\\'Humans appear to be capable of spreading the virus to some other\\nanimals, a type of disease transmission referred to as\\nzooanthroponosis.\\\\n\\', \"By the 15th century, writers, artists, and\\narchitects in Italy were well aware of the transformations that were\\ntaking place and were using phrases such as modi antichi (in the\\nantique manner) or alle romana et alla antica (in the manner of the\\nRomans and the ancients) to describe their work. In the 1330s Petrarch\\nreferred to pre-Christian times as antiqua (ancient) and to the\\nChristian period as nova (new). From Petrarch\\'s Italian perspective,\\nthis new period (which included his own time) was an age of national\\neclipse.\\\\nLeonardo Bruni was the first to use tripartite periodization\\nin his History of the Florentine People (1442). Bruni\\'s first two\\nperiods were based on those of Petrarch, but he added a third period\\nbecause he believed that Italy was no longer in a state of decline.'"
      ]
     },
     "execution_count": 305,
     "metadata": {},
     "output_type": "execute_result"
    }
   ],
   "source": [
    "df_final.text[6]"
   ]
  },
  {
   "cell_type": "code",
   "execution_count": 306,
   "metadata": {},
   "outputs": [],
   "source": [
    "from PIL import Image, ImageDraw, ImageFont\n",
    "import difflib\n",
    "import re\n",
    "\n",
    "def text_compare_docs(inputFile,inputText):\n",
    "    # Read the text file\n",
    "    #inputFile = 'data_docs/document_13.txt'\n",
    "    #inputText = df_Final.text[0]\n",
    "    with open(inputFile, 'r') as file:\n",
    "        document_lines = re.split('\\n|\\\\n', file.read())\n",
    "\n",
    "    # Create an image object\n",
    "    image = Image.new('RGB', (1000, 500), color = (73, 109, 137))\n",
    "\n",
    "    # Create a drawing object\n",
    "    d = ImageDraw.Draw(image)\n",
    "\n",
    "    # Define the font for the text\n",
    "    fnt = ImageFont.truetype('/Library/Fonts/Arial.ttf', 5)\n",
    "\n",
    "    # Define the font for the highlighted text\n",
    "    highlight_fnt = ImageFont.truetype('/Library/Fonts/Arial.ttf', 5)\n",
    "\n",
    "    highlight_text = inputText\n",
    "    # The text to highlight\n",
    "    highlight_lines = highlight_text.split('\\n')\n",
    "    print(len(highlight_lines))\n",
    "    print(highlight_text)\n",
    "    # Add the text to the image\n",
    "    for i, line in enumerate(document_lines):\n",
    "        # Check if the line is in the highlight text\n",
    "        if any(difflib.SequenceMatcher(None, line, hl_line).ratio() > 0.5 for hl_line in highlight_lines):\n",
    "            \n",
    "            # Draw the highlight\n",
    "            #print(line)\n",
    "            d.text((1, i*2), line, font=highlight_fnt, fill=(255, 255, 0))\n",
    "        else:\n",
    "            # Draw the text\n",
    "            d.text((1, i*2), line, font=fnt, fill=(0, 0, 0))\n",
    "\n",
    "    # Show the image\n",
    "    image.show()"
   ]
  },
  {
   "cell_type": "code",
   "execution_count": 307,
   "metadata": {},
   "outputs": [
    {
     "name": "stdout",
     "output_type": "stream",
     "text": [
      "14\n",
      "language game.\\n', 'Linkin Park combines elements of metal,\n",
      "industrial, punk, pop, electronic, hip hop. More specifically, the\n",
      "band has been categorized as alternative rock, nu metal, rap rock, rap\n",
      "metal, alternative metal, electronic rock, pop rock, hard rock, and\n",
      "industrial rock.note 1 Despite being considered nu metal, the band\n",
      "never considered themselves as such.\\n', \"Like structuralists, post-\n",
      "structuralists start from the assumption that people's identities,\n",
      "values, and economic conditions determine each other rather than\n",
      "having intrinsic properties that can be understood in isolation.\n",
      "Structuralists explore how the subjects of their study might be\n",
      "described as a set of essential relationships, schematics, or\n",
      "mathematical symbols. Post-structuralism, by contrast, is\n",
      "characterized by new ways of thinking through structuralism, contrary\n",
      "to the original form.\\n\"\n"
     ]
    }
   ],
   "source": [
    "inputFile = 'data_docs/document_17.txt'\n",
    "inputText = df_final.text[20]\n",
    "\n",
    "text_compare_docs(inputFile,inputText)"
   ]
  },
  {
   "cell_type": "code",
   "execution_count": null,
   "metadata": {},
   "outputs": [],
   "source": []
  },
  {
   "cell_type": "markdown",
   "metadata": {},
   "source": [
    "### Comparing two documents at a time\n"
   ]
  }
 ],
 "metadata": {
  "kernelspec": {
   "display_name": "kgvenv",
   "language": "python",
   "name": "python3"
  },
  "language_info": {
   "codemirror_mode": {
    "name": "ipython",
    "version": 3
   },
   "file_extension": ".py",
   "mimetype": "text/x-python",
   "name": "python",
   "nbconvert_exporter": "python",
   "pygments_lexer": "ipython3",
   "version": "3.10.13"
  }
 },
 "nbformat": 4,
 "nbformat_minor": 2
}
